{
 "cells": [
  {
   "cell_type": "code",
   "execution_count": 40,
   "metadata": {},
   "outputs": [
    {
     "ename": "SyntaxError",
     "evalue": "invalid syntax (<ipython-input-40-be2c8d8b5bef>, line 12)",
     "output_type": "error",
     "traceback": [
      "\u001b[1;36m  File \u001b[1;32m\"<ipython-input-40-be2c8d8b5bef>\"\u001b[1;36m, line \u001b[1;32m12\u001b[0m\n\u001b[1;33m    score = i[] - x[]\u001b[0m\n\u001b[1;37m              ^\u001b[0m\n\u001b[1;31mSyntaxError\u001b[0m\u001b[1;31m:\u001b[0m invalid syntax\n"
     ]
    }
   ],
   "source": [
    "gandalf_spells = [10, 11, 13, 30, 22, 11, 10, 33, 22, 22]\n",
    "for i in [gandalf_spells]:\n",
    "    gandalf = i\n",
    "saruman_spells = [23, 66, 12, 43, 12, 10, 44, 23, 12, 17]\n",
    "for x in [saruman_spells]:\n",
    "    saruman = x\n",
    "spells = len(gandalf_spells)\n",
    "spells = len(gandalf_spells)\n",
    "gandalf_wins = 0\n",
    "saruman_wins = 0\n",
    "tie = 0\n",
    "score =  - x[]\n",
    "if score > 0:\n",
    "   gandalf_wins += 1\n",
    "elif score < 0:\n",
    "   saruman_wins += 1\n",
    "else:\n",
    "    tie += 1\n",
    "print(saruman_wins)\n"
   ]
  },
  {
   "cell_type": "code",
   "execution_count": 8,
   "metadata": {},
   "outputs": [
    {
     "name": "stdout",
     "output_type": "stream",
     "text": [
      "0\n"
     ]
    }
   ],
   "source": [
    "gandalf_spells = [10, 11, 13, 30, 22, 11, 10, 33, 22, 22]\n",
    "saruman_spells = [23, 66, 12, 43, 12, 10, 44, 23, 12, 17]\n",
    "gandalf_wins = 0\n",
    "saruman_wins = 0\n",
    "tie = 0\n",
    "for n in gandalf_spells and saruman_spells:\n",
    "    n = 0\n",
    "    if gandalf_spells[n]>saruman_spells[n]:\n",
    "        gandalf_wins =+1\n",
    "        n =+1\n",
    "print(n)\n",
    "    "
   ]
  },
  {
   "cell_type": "code",
   "execution_count": null,
   "metadata": {},
   "outputs": [],
   "source": []
  }
 ],
 "metadata": {
  "kernelspec": {
   "display_name": "Python 3",
   "language": "python",
   "name": "python3"
  },
  "language_info": {
   "codemirror_mode": {
    "name": "ipython",
    "version": 3
   },
   "file_extension": ".py",
   "mimetype": "text/x-python",
   "name": "python",
   "nbconvert_exporter": "python",
   "pygments_lexer": "ipython3",
   "version": "3.8.5"
  }
 },
 "nbformat": 4,
 "nbformat_minor": 4
}
