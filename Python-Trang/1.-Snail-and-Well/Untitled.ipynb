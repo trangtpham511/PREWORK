{
 "cells": [
  {
   "cell_type": "code",
   "execution_count": 1,
   "metadata": {},
   "outputs": [],
   "source": [
    "well_height = 125\n",
    "daily_distance = 30\n",
    "nightly_distance = 20\n",
    "snail_position = 0 "
   ]
  },
  {
   "cell_type": "code",
   "execution_count": 2,
   "metadata": {},
   "outputs": [],
   "source": [
    "snail_position = snail_position + daily_distance - nightly_distance"
   ]
  },
  {
   "cell_type": "code",
   "execution_count": 3,
   "metadata": {},
   "outputs": [
    {
     "name": "stdout",
     "output_type": "stream",
     "text": [
      "The snail can not escape the well yet\n",
      "The snail can not escape the well yet\n",
      "The snail can not escape the well yet\n",
      "The snail can not escape the well yet\n",
      "The snail can not escape the well yet\n",
      "The snail can not escape the well yet\n",
      "The snail can not escape the well yet\n",
      "The snail can not escape the well yet\n",
      "The snail can not escape the well yet\n",
      "The snail can not escape the well yet\n",
      "The snail can not escape the well yet\n",
      "The snail can not escape the well yet\n",
      "The snail gets out of the well\n"
     ]
    }
   ],
   "source": [
    "while snail_position < well_height: \n",
    "   print ('The snail can not escape the well yet')\n",
    "   snail_position = snail_position + daily_distance - nightly_distance\n",
    "print ('The snail gets out of the well')"
   ]
  },
  {
   "cell_type": "code",
   "execution_count": 4,
   "metadata": {},
   "outputs": [
    {
     "ename": "NameError",
     "evalue": "name 'i' is not defined",
     "output_type": "error",
     "traceback": [
      "\u001b[1;31m---------------------------------------------------------------------------\u001b[0m",
      "\u001b[1;31mNameError\u001b[0m                                 Traceback (most recent call last)",
      "\u001b[1;32m<ipython-input-4-65d580f1e09e>\u001b[0m in \u001b[0;36m<module>\u001b[1;34m\u001b[0m\n\u001b[0;32m      1\u001b[0m \u001b[0madvance_cm\u001b[0m \u001b[1;33m=\u001b[0m \u001b[1;33m[\u001b[0m\u001b[1;36m30\u001b[0m\u001b[1;33m,\u001b[0m \u001b[1;36m21\u001b[0m\u001b[1;33m,\u001b[0m \u001b[1;36m33\u001b[0m\u001b[1;33m,\u001b[0m \u001b[1;36m77\u001b[0m\u001b[1;33m,\u001b[0m \u001b[1;36m44\u001b[0m\u001b[1;33m,\u001b[0m \u001b[1;36m45\u001b[0m\u001b[1;33m,\u001b[0m \u001b[1;36m23\u001b[0m\u001b[1;33m,\u001b[0m \u001b[1;36m45\u001b[0m\u001b[1;33m,\u001b[0m \u001b[1;36m12\u001b[0m\u001b[1;33m,\u001b[0m \u001b[1;36m34\u001b[0m\u001b[1;33m,\u001b[0m \u001b[1;36m55\u001b[0m\u001b[1;33m]\u001b[0m\u001b[1;33m\u001b[0m\u001b[1;33m\u001b[0m\u001b[0m\n\u001b[0;32m      2\u001b[0m \u001b[0mwell_height\u001b[0m \u001b[1;33m=\u001b[0m \u001b[1;36m125\u001b[0m\u001b[1;33m\u001b[0m\u001b[1;33m\u001b[0m\u001b[0m\n\u001b[1;32m----> 3\u001b[1;33m \u001b[0mdaily_distance\u001b[0m \u001b[1;33m=\u001b[0m \u001b[0mi\u001b[0m \u001b[1;32min\u001b[0m \u001b[0madvance_cm\u001b[0m\u001b[1;33m\u001b[0m\u001b[1;33m\u001b[0m\u001b[0m\n\u001b[0m\u001b[0;32m      4\u001b[0m \u001b[0mnightly_distance\u001b[0m \u001b[1;33m=\u001b[0m \u001b[1;36m20\u001b[0m\u001b[1;33m\u001b[0m\u001b[1;33m\u001b[0m\u001b[0m\n\u001b[0;32m      5\u001b[0m \u001b[0msnail_position\u001b[0m \u001b[1;33m=\u001b[0m \u001b[1;36m0\u001b[0m\u001b[1;33m\u001b[0m\u001b[1;33m\u001b[0m\u001b[0m\n",
      "\u001b[1;31mNameError\u001b[0m: name 'i' is not defined"
     ]
    }
   ],
   "source": [
    "advance_cm = [30, 21, 33, 77, 44, 45, 23, 45, 12, 34, 55]\n",
    "well_height = 125\n",
    "daily_distance = i in advance_cm\n",
    "nightly_distance = 20\n",
    "snail_position = 0\n",
    "snail_position = snail_position + daily_distance - nightly_distance\n",
    "while snail_position < well_height: \n",
    "   print ('The snail can not escape the well yet')\n",
    "   snail_position = snail_position + daily_distance - nightly_distance\n",
    "print ('The snail gets out of the well')"
   ]
  },
  {
   "cell_type": "code",
   "execution_count": 5,
   "metadata": {},
   "outputs": [
    {
     "name": "stdout",
     "output_type": "stream",
     "text": [
      "The snail gets out of the well\n"
     ]
    }
   ],
   "source": [
    "advance_cm = [30, 21, 33, 77, 44, 45, 23, 45, 12, 34, 55]\n",
    "daily_distance = 0\n",
    "for i in advance_cm:\n",
    "    daily_distance += i\n",
    "well_height = 125\n",
    "nightly_distance = 20\n",
    "snail_position = 0\n",
    "snail_position = snail_position + daily_distance - nightly_distance\n",
    "while snail_position < well_height: \n",
    "   print ('The snail can not escape the well yet')\n",
    "   snail_position = snail_position + daily_distance - nightly_distance\n",
    "print ('The snail gets out of the well')"
   ]
  },
  {
   "cell_type": "code",
   "execution_count": 6,
   "metadata": {},
   "outputs": [
    {
     "name": "stdout",
     "output_type": "stream",
     "text": [
      "Daily distance is 30\n",
      "Daily distance is 51\n",
      "Daily distance is 84\n",
      "Daily distance is 161\n",
      "Daily distance is 205\n",
      "Daily distance is 250\n",
      "Daily distance is 273\n",
      "Daily distance is 318\n",
      "Daily distance is 330\n",
      "Daily distance is 364\n",
      "Daily distance is 419\n"
     ]
    }
   ],
   "source": [
    "advance_cm = [30, 21, 33, 77, 44, 45, 23, 45, 12, 34, 55]\n",
    "daily_distance = 0\n",
    "for i in advance_cm:\n",
    "    daily_distance += i\n",
    "    print('Daily distance is', daily_distance)"
   ]
  },
  {
   "cell_type": "code",
   "execution_count": 7,
   "metadata": {},
   "outputs": [
    {
     "name": "stdout",
     "output_type": "stream",
     "text": [
      "Daily distance is 30\n",
      "Daily distance is 21\n",
      "Daily distance is 33\n",
      "Daily distance is 77\n",
      "Daily distance is 44\n",
      "Daily distance is 45\n",
      "Daily distance is 23\n",
      "Daily distance is 45\n",
      "Daily distance is 12\n",
      "Daily distance is 34\n",
      "Daily distance is 55\n"
     ]
    }
   ],
   "source": [
    "advance_cm = [30, 21, 33, 77, 44, 45, 23, 45, 12, 34, 55]\n",
    "daily_distance = 0\n",
    "for i in advance_cm:\n",
    "    daily_distance = i\n",
    "    print('Daily distance is', daily_distance)"
   ]
  },
  {
   "cell_type": "code",
   "execution_count": 8,
   "metadata": {},
   "outputs": [
    {
     "name": "stdout",
     "output_type": "stream",
     "text": [
      "The snail can not escape the well yet\n",
      "The snail can not escape the well yet\n",
      "The snail can not escape the well yet\n",
      "The snail gets out of the well\n"
     ]
    }
   ],
   "source": [
    "advance_cm = [30, 21, 33, 77, 44, 45, 23, 45, 12, 34, 55]\n",
    "daily_distance = 0\n",
    "for i in advance_cm:\n",
    "    daily_distance = i\n",
    "well_height = 125\n",
    "nightly_distance = 20\n",
    "snail_position = 0\n",
    "snail_position = snail_position + daily_distance - nightly_distance\n",
    "while snail_position < well_height: \n",
    "   print ('The snail can not escape the well yet')\n",
    "   snail_position = snail_position + daily_distance - nightly_distance\n",
    "print ('The snail gets out of the well')"
   ]
  },
  {
   "cell_type": "code",
   "execution_count": 11,
   "metadata": {},
   "outputs": [
    {
     "name": "stdout",
     "output_type": "stream",
     "text": [
      "The snail can not escape the well yet\n",
      "The snail can not escape the well yet\n",
      "The snail can not escape the well yet\n",
      "The snail can not escape the well yet\n",
      "The snail can not escape the well yet\n",
      "The snail can not escape the well yet\n",
      "The snail can not escape the well yet\n",
      "The snail can not escape the well yet\n",
      "The snail can not escape the well yet\n",
      "The snail can not escape the well yet\n",
      "The snail can not escape the well yet\n",
      "The snail can not escape the well yet\n",
      "It takes the snail  13  days to get out of the well\n"
     ]
    }
   ],
   "source": [
    "well_height = 125\n",
    "daily_distance = 30\n",
    "nightly_distance = 20\n",
    "snail_position = 0\n",
    "snail_position = snail_position + daily_distance - nightly_distance\n",
    "days = 1\n",
    "while snail_position < well_height: \n",
    "   print ('The snail can not escape the well yet')\n",
    "   snail_position = snail_position + daily_distance - nightly_distance\n",
    "   days = days + 1\n",
    "print ('It takes the snail ', days,' days to get out of the well')"
   ]
  },
  {
   "cell_type": "code",
   "execution_count": 13,
   "metadata": {},
   "outputs": [
    {
     "name": "stdout",
     "output_type": "stream",
     "text": [
      "The snail can not escape the well yet\n",
      "The snail can not escape the well yet\n",
      "The snail can not escape the well yet\n",
      "It takes the snail  4  days to get out of the well\n"
     ]
    }
   ],
   "source": [
    "advance_cm = [30, 21, 33, 77, 44, 45, 23, 45, 12, 34, 55]\n",
    "daily_distance = 0\n",
    "for i in advance_cm:\n",
    "    daily_distance = i\n",
    "well_height = 125\n",
    "nightly_distance = 20\n",
    "snail_position = 0\n",
    "snail_position = snail_position + daily_distance - nightly_distance\n",
    "days = 1\n",
    "while snail_position < well_height: \n",
    "   print ('The snail can not escape the well yet')\n",
    "   snail_position = snail_position + daily_distance - nightly_distance\n",
    "   days = days + 1\n",
    "print ('It takes the snail ', days,' days to get out of the well')"
   ]
  },
  {
   "cell_type": "code",
   "execution_count": 20,
   "metadata": {},
   "outputs": [
    {
     "name": "stdout",
     "output_type": "stream",
     "text": [
      "[10, 1, 13, 57, 24, 25, 3, 25, -8, 14, 35]\n"
     ]
    }
   ],
   "source": [
    "advance_cm = [30, 21, 33, 77, 44, 45, 23, 45, 12, 34, 55]\n",
    "displacement = []\n",
    "for i in advance_cm:\n",
    "    daily_distance = i\n",
    "    nightly_distance = 20\n",
    "    displacement_value = daily_distance - nightly_distance\n",
    "    displacement.append(displacement_value)\n",
    "print(displacement)"
   ]
  },
  {
   "cell_type": "code",
   "execution_count": 21,
   "metadata": {},
   "outputs": [
    {
     "name": "stdout",
     "output_type": "stream",
     "text": [
      "57\n"
     ]
    }
   ],
   "source": [
    "maximum_displacement = max(displacement)\n",
    "print(maximum_displacement)\n"
   ]
  },
  {
   "cell_type": "code",
   "execution_count": 22,
   "metadata": {},
   "outputs": [
    {
     "name": "stdout",
     "output_type": "stream",
     "text": [
      "-8\n"
     ]
    }
   ],
   "source": [
    "minimum_displacement = min(displacement)\n",
    "print(minimum_displacement)"
   ]
  },
  {
   "cell_type": "code",
   "execution_count": 23,
   "metadata": {},
   "outputs": [
    {
     "ename": "NameError",
     "evalue": "name 'mean' is not defined",
     "output_type": "error",
     "traceback": [
      "\u001b[1;31m---------------------------------------------------------------------------\u001b[0m",
      "\u001b[1;31mNameError\u001b[0m                                 Traceback (most recent call last)",
      "\u001b[1;32m<ipython-input-23-701969c571e3>\u001b[0m in \u001b[0;36m<module>\u001b[1;34m\u001b[0m\n\u001b[1;32m----> 1\u001b[1;33m \u001b[0maverage_progress\u001b[0m \u001b[1;33m=\u001b[0m \u001b[0mmean\u001b[0m\u001b[1;33m(\u001b[0m\u001b[0mdisplacement\u001b[0m\u001b[1;33m)\u001b[0m\u001b[1;33m\u001b[0m\u001b[1;33m\u001b[0m\u001b[0m\n\u001b[0m\u001b[0;32m      2\u001b[0m \u001b[0mprint\u001b[0m\u001b[1;33m(\u001b[0m\u001b[0maverage_progress\u001b[0m\u001b[1;33m)\u001b[0m\u001b[1;33m\u001b[0m\u001b[1;33m\u001b[0m\u001b[0m\n",
      "\u001b[1;31mNameError\u001b[0m: name 'mean' is not defined"
     ]
    }
   ],
   "source": []
  },
  {
   "cell_type": "code",
   "execution_count": null,
   "metadata": {},
   "outputs": [],
   "source": []
  }
 ],
 "metadata": {
  "kernelspec": {
   "display_name": "Python 3",
   "language": "python",
   "name": "python3"
  },
  "language_info": {
   "codemirror_mode": {
    "name": "ipython",
    "version": 3
   },
   "file_extension": ".py",
   "mimetype": "text/x-python",
   "name": "python",
   "nbconvert_exporter": "python",
   "pygments_lexer": "ipython3",
   "version": "3.8.5"
  }
 },
 "nbformat": 4,
 "nbformat_minor": 4
}
