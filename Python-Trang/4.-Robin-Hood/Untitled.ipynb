{
 "cells": [
  {
   "cell_type": "code",
   "execution_count": 5,
   "metadata": {},
   "outputs": [],
   "source": [
    "points = [(4, 5), (-0, 2), (4, 7), (1, -3), (3, -2), (4, 5), (3, 2), (5, 7), (-5, 7), (2, 2), (-4, 5), (0, -2),\n",
    "          (-4, 7), (-1, 3), (-3, 2), (-4, -5), (-3, 2), (5, 7), (5, 7), (2, 2), (9, 9), (-8, -9)]"
   ]
  },
  {
   "cell_type": "code",
   "execution_count": 11,
   "metadata": {},
   "outputs": [
    {
     "name": "stdout",
     "output_type": "stream",
     "text": [
      "The points where an arrow hits another arrows are [(4, 5), (4, 5), (5, 7), (2, 2), (-3, 2), (-3, 2), (5, 7), (5, 7), (2, 2)]\n"
     ]
    }
   ],
   "source": [
    "duplicates = []\n",
    "for i in points:\n",
    "    if points.count(i)>1:\n",
    "        duplicates.append(i)\n",
    "print(\"The points where an arrow hits another arrows are\", duplicates)"
   ]
  },
  {
   "cell_type": "code",
   "execution_count": 64,
   "metadata": {},
   "outputs": [
    {
     "name": "stdout",
     "output_type": "stream",
     "text": [
      "10 has fallen in Q1\n",
      "6 has fallen in Q2\n",
      "2 has fallen in Q3\n",
      "2 has fallen in Q4\n"
     ]
    }
   ],
   "source": [
    "new_list_Q1 = []\n",
    "new_list_Q2 = []\n",
    "new_list_Q3 = []\n",
    "new_list_Q4 = []\n",
    "for x,y in points:\n",
    "    if x >0:\n",
    "        if (x>0) and (y>0): \n",
    "            new_list_Q1.append((x,y))\n",
    "        elif(x>0) and (y<0):\n",
    "            new_list_Q4.append((x,y))\n",
    "    elif x< 0:\n",
    "         if (x<0) and (y>0): \n",
    "            new_list_Q2.append((x,y))\n",
    "         elif (x<0) and (y<0):\n",
    "            new_list_Q3.append((x,y))\n",
    "print(len(new_list_Q1),\"has fallen in Q1\")\n",
    "print(len(new_list_Q2),\"has fallen in Q2\")\n",
    "print(len(new_list_Q3),\"has fallen in Q3\")\n",
    "print(len(new_list_Q4),\"has fallen in Q4\")\n",
    "            "
   ]
  },
  {
   "cell_type": "code",
   "execution_count": 77,
   "metadata": {},
   "outputs": [
    {
     "name": "stdout",
     "output_type": "stream",
     "text": [
      "[12.041594578792296]\n"
     ]
    }
   ],
   "source": [
    "sqrt_list = []\n",
    "import math\n",
    "for x,y in points:\n",
    "    distance=math.sqrt(x**2+y**2)\n",
    "sqrt_list.append(distance)\n",
    "print(sqrt_list)\n",
    "    "
   ]
  },
  {
   "cell_type": "code",
   "execution_count": null,
   "metadata": {},
   "outputs": [],
   "source": []
  }
 ],
 "metadata": {
  "kernelspec": {
   "display_name": "Python 3",
   "language": "python",
   "name": "python3"
  },
  "language_info": {
   "codemirror_mode": {
    "name": "ipython",
    "version": 3
   },
   "file_extension": ".py",
   "mimetype": "text/x-python",
   "name": "python",
   "nbconvert_exporter": "python",
   "pygments_lexer": "ipython3",
   "version": "3.8.5"
  }
 },
 "nbformat": 4,
 "nbformat_minor": 4
}
